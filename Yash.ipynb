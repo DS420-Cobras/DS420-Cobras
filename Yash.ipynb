{
 "cells": [
  {
   "cell_type": "code",
   "execution_count": 3,
   "metadata": {
    "collapsed": true
   },
   "outputs": [],
   "source": [
    "import load_data\n",
    "import pandas as pd\n",
    "import sklearn.linear_model\n",
    "import sklearn.ensemble\n",
    "import matplotlib.pyplot as plt\n",
    "import plot\n",
    "import time\n",
    "import datetime\n",
    "import numpy as np"
   ]
  },
  {
   "cell_type": "code",
   "execution_count": 4,
   "metadata": {},
   "outputs": [
    {
     "name": "stdout",
     "output_type": "stream",
     "text": [
      "https://biendata.com/competition/airquality/bj/2017-01-01-0/2018-05-31-23/2k0d1d8\n",
      "data/Beijing/air/bj_airquality_2017-01-01-0_2018-05-31-23.csv\n",
      "\n",
      "https://biendata.com/competition/meteorology/bj/2017-01-01-0/2018-05-31-23/2k0d1d8\n",
      "data/Beijing/met/bj_meteorology_2017-01-01-0_2018-05-31-23.csv\n",
      "\n",
      "https://biendata.com/competition/meteorology/bj_grid/2017-01-01-0/2018-05-31-23/2k0d1d8\n",
      "data/Beijing/grid/bj_grid_2017-01-01-0_2018-05-31-23.csv\n",
      "\n",
      "https://biendata.com/competition/airquality/ld/2017-01-01-0/2018-05-31-23/2k0d1d8\n",
      "data/London/air/ld_airquality_2017-01-01-0_2018-05-31-23.csv\n",
      "\n",
      "https://biendata.com/competition/meteorology/ld/2017-01-01-0/2018-05-31-23/2k0d1d8\n",
      "data/London/met/ld_meteorology_2017-01-01-0_2018-05-31-23.csv\n",
      "\n",
      "https://biendata.com/competition/meteorology/ld_grid/2017-01-01-0/2018-05-31-23/2k0d1d8\n",
      "data/London/grid/ld_grid_2017-01-01-0_2018-05-31-23.csv\n",
      "\n"
     ]
    }
   ],
   "source": [
    "allDf = load_data.getPandasDataframes()\n",
    "\n",
    "bejAirDf = allDf[('Beijing', 'air')]\n",
    "bejMetDf = allDf[('Beijing', 'met')]\n",
    "bejGrd = allDf[('Beijing', 'grid')]\n",
    "\n",
    "bejAirDf['newTime'] = pd.to_datetime(bejAirDf['time'], errors='coerce', format='%Y-%m-%d %H:%M:%S')\n",
    "\n",
    "bejDf = pd.DataFrame()\n",
    "for key in ['station_id', 'PM25_Concentration', 'PM10_Concentration', 'NO2_Concentration', 'CO_Concentration', 'O3_Concentration', 'SO2_Concentration']:\n",
    "    bejDf[key] = bejAirDf[key]\n",
    "bejDf['time'] = bejAirDf['newTime']"
   ]
  },
  {
   "cell_type": "code",
   "execution_count": 7,
   "metadata": {},
   "outputs": [
    {
     "name": "stdout",
     "output_type": "stream",
     "text": [
      "         station_id  PM25_Concentration  PM10_Concentration  \\\n",
      "0         dongsi_aq               105.0               172.0   \n",
      "1        tiantan_aq                95.0               123.0   \n",
      "2       guanyuan_aq                95.0               139.0   \n",
      "3  wanshouxigong_aq                99.0               172.0   \n",
      "4   aotizhongxin_aq               117.0               166.0   \n",
      "\n",
      "   NO2_Concentration  CO_Concentration  O3_Concentration  SO2_Concentration  \\\n",
      "0               53.0               0.8             127.0               14.0   \n",
      "1               54.0               0.9             121.0               15.0   \n",
      "2               66.0               0.8             123.0               13.0   \n",
      "3               58.0               1.0             119.0               14.0   \n",
      "4               67.0               0.8             111.0               14.0   \n",
      "\n",
      "                 time  \n",
      "0 2018-03-31 07:00:00  \n",
      "1 2018-03-31 07:00:00  \n",
      "2 2018-03-31 07:00:00  \n",
      "3 2018-03-31 07:00:00  \n",
      "4 2018-03-31 07:00:00  \n",
      "              station_id  PM25_Concentration  PM10_Concentration  \\\n",
      "23060         qianmen_aq                22.0                60.0   \n",
      "23061  yongdingmennei_aq                15.0                68.0   \n",
      "23062     xizhimenbei_aq                30.0                65.0   \n",
      "23063      nansanhuan_aq                 9.0                75.0   \n",
      "23064      dongsihuan_aq                12.0                91.0   \n",
      "\n",
      "       NO2_Concentration  CO_Concentration  O3_Concentration  \\\n",
      "23060               57.0               0.6              37.0   \n",
      "23061               69.0               0.6              46.0   \n",
      "23062               37.0               0.4              50.0   \n",
      "23063               67.0               0.5              28.0   \n",
      "23064               69.0               0.5              25.0   \n",
      "\n",
      "       SO2_Concentration                time  \n",
      "23060                4.0 2018-04-29 22:00:00  \n",
      "23061                5.0 2018-04-29 22:00:00  \n",
      "23062                2.0 2018-04-29 22:00:00  \n",
      "23063                4.0 2018-04-29 22:00:00  \n",
      "23064                6.0 2018-04-29 22:00:00  \n"
     ]
    }
   ],
   "source": [
    "print(bejDf.head())\n",
    "print(bejDf.tail())"
   ]
  },
  {
   "cell_type": "code",
   "execution_count": 18,
   "metadata": {},
   "outputs": [
    {
     "name": "stdout",
     "output_type": "stream",
     "text": [
      "{'aotizhongxin_aq': {'PM25_Concentration': 67.735474006116206, 'PM10_Concentration': 120.27713178294573, 'NO2_Concentration': 48.535987748851454, 'CO_Concentration': 0.6838957055214725, 'O3_Concentration': 74.777089783281738, 'SO2_Concentration': 6.5834609494640119}, 'badaling_aq': {'PM25_Concentration': 59.483606557377051, 'PM10_Concentration': 154.55105633802816, 'NO2_Concentration': 46.650546021840874, 'CO_Concentration': 0.52718749999999859, 'O3_Concentration': 71.048361934477384, 'SO2_Concentration': 4.4305772230889238}, 'beibuxinqu_aq': {'PM25_Concentration': 64.659999999999997, 'PM10_Concentration': 152.92007434944239, 'NO2_Concentration': 46.324695121951223, 'CO_Concentration': 0.75864297253634794, 'O3_Concentration': 65.471755725190846, 'SO2_Concentration': 4.4451219512195124}, 'daxing_aq': {'PM25_Concentration': 60.246575342465754, 'PM10_Concentration': 140.414913957935, 'NO2_Concentration': 46.72344013490725, 'CO_Concentration': 0.73422818791946587, 'O3_Concentration': 67.593277310924364, 'SO2_Concentration': 6.610084033613445}, 'dingling_aq': {'PM25_Concentration': 61.001594896331738, 'PM10_Concentration': 108.43129770992367, 'NO2_Concentration': 28.445300462249616, 'CO_Concentration': 0.60122324159021356, 'O3_Concentration': 85.643518518518519, 'SO2_Concentration': 5.1024464831804277}, 'donggaocun_aq': {'PM25_Concentration': 61.910236220472441, 'PM10_Concentration': 106.97968397291196, 'NO2_Concentration': 25.436305732484076, 'CO_Concentration': 0.66409861325115549, 'O3_Concentration': 100.96535433070866, 'SO2_Concentration': 10.385093167701863}, 'dongsi_aq': {'PM25_Concentration': 68.311349693251529, 'PM10_Concentration': 133.66844919786095, 'NO2_Concentration': 42.027649769585253, 'CO_Concentration': 0.73353941267387934, 'O3_Concentration': 81.381538461538454, 'SO2_Concentration': 8.6544342507645258}, 'dongsihuan_aq': {'PM25_Concentration': 66.464831804281346, 'PM10_Concentration': 152.13477537437603, 'NO2_Concentration': 71.883614088820821, 'CO_Concentration': 0.82671755725190788, 'O3_Concentration': 55.857580398162327, 'SO2_Concentration': 9.4954128440366965}, 'fangshan_aq': {'PM25_Concentration': 64.271755725190843, 'PM10_Concentration': 157.258872651357, 'NO2_Concentration': 51.130699088145896, 'CO_Concentration': 0.64574468085106262, 'O3_Concentration': 84.67496111975116, 'SO2_Concentration': 6.4939209726443767}, 'fengtaihuayuan_aq': {'PM25_Concentration': 75.248833592534993, 'PM10_Concentration': 142.87218045112783, 'NO2_Concentration': 51.158054711246201, 'CO_Concentration': 0.77112462006078919, 'O3_Concentration': 73.72188449848025, 'SO2_Concentration': 6.3601823708206684}, 'guanyuan_aq': {'PM25_Concentration': 66.311827956989248, 'PM10_Concentration': 124.43300970873787, 'NO2_Concentration': 46.743471582181257, 'CO_Concentration': 0.68665644171778961, 'O3_Concentration': 84.682588597842837, 'SO2_Concentration': 8.1809815950920246}, 'gucheng_aq': {'PM25_Concentration': 72.009132420091319, 'PM10_Concentration': 143.11567164179104, 'NO2_Concentration': 50.394495412844037, 'CO_Concentration': 0.6840245775729642, 'O3_Concentration': 78.176651305683563, 'SO2_Concentration': 4.9816513761467887}, 'huairou_aq': {'PM25_Concentration': 58.637480798771122, 'PM10_Concentration': 112.32046332046332, 'NO2_Concentration': 25.350609756097562, 'CO_Concentration': 0.72732824427480891, 'O3_Concentration': 89.680817610062888, 'SO2_Concentration': 4.9755351681957185}, 'liulihe_aq': {'PM25_Concentration': 73.099378881987576, 'PM10_Concentration': 172.9805996472663, 'NO2_Concentration': 35.460587326120553, 'CO_Concentration': 0.62717557251908318, 'O3_Concentration': 73.079147640791476, 'SO2_Concentration': 5.1926910299003319}, 'mentougou_aq': {'PM25_Concentration': 64.259202453987726, 'PM10_Concentration': 126.41774491682071, 'NO2_Concentration': 46.553191489361701, 'CO_Concentration': 0.65136778115501381, 'O3_Concentration': 81.59270516717325, 'SO2_Concentration': 5.4224924012158056}, 'miyun_aq': {'PM25_Concentration': 59.829754601226995, 'PM10_Concentration': 110.41016333938293, 'NO2_Concentration': 37.762557077625573, 'CO_Concentration': 0.70821917808219015, 'O3_Concentration': 89.144596651445966, 'SO2_Concentration': 5.2511415525114158}, 'miyunshuiku_aq': {'PM25_Concentration': 55.716068642745711, 'PM10_Concentration': 106.12323232323233, 'NO2_Concentration': 16.251931993817621, 'CO_Concentration': 0.5890432098765418, 'O3_Concentration': 105.21150855365474, 'SO2_Concentration': 5.1715610510046366}, 'nansanhuan_aq': {'PM25_Concentration': 71.326219512195124, 'PM10_Concentration': 152.08006535947712, 'NO2_Concentration': 78.031866464339913, 'CO_Concentration': 0.85479452054794436, 'O3_Concentration': 49.658022690437605, 'SO2_Concentration': 8.6048632218844983}, 'nongzhanguan_aq': {'PM25_Concentration': 64.412844036697251, 'PM10_Concentration': 135.40215439856374, 'NO2_Concentration': 47.413476263399694, 'CO_Concentration': 0.75849056603773646, 'O3_Concentration': 72.033794162826425, 'SO2_Concentration': 7.7206106870229005}, 'pingchang_aq': {'PM25_Concentration': 61.420245398773005, 'PM10_Concentration': 115.29142857142857, 'NO2_Concentration': 32.553459119496857, 'CO_Concentration': 0.61892307692307613, 'O3_Concentration': 81.156923076923078, 'SO2_Concentration': 6.774193548387097}, 'pinggu_aq': {'PM25_Concentration': 63.402476780185758, 'PM10_Concentration': 105.64386317907444, 'NO2_Concentration': 26.235114503816796, 'CO_Concentration': 0.83932926829268395, 'O3_Concentration': 96.06396255850234, 'SO2_Concentration': 6.6463414634146343}, 'qianmen_aq': {'PM25_Concentration': 67.646322378716746, 'PM10_Concentration': 136.79035250463821, 'NO2_Concentration': 57.443095599393018, 'CO_Concentration': 0.81729893778452012, 'O3_Concentration': 71.381987577639748, 'SO2_Concentration': 8.5827010622154774}, 'shunyi_aq': {'PM25_Concentration': 65.027687296416943, 'PM10_Concentration': 124.91774891774892, 'NO2_Concentration': 38.317512274959086, 'CO_Concentration': 0.93882544861337924, 'O3_Concentration': 83.964052287581694, 'SO2_Concentration': 8.8861788617886184}, 'tiantan_aq': {'PM25_Concentration': 60.36392405063291, 'PM10_Concentration': 121.36871508379889, 'NO2_Concentration': 43.935384615384613, 'CO_Concentration': 0.7682098765432096, 'O3_Concentration': 68.948916408668737, 'SO2_Concentration': 5.3497688751926038}, 'tongzhou_aq': {'PM25_Concentration': 67.798771121351763, 'PM10_Concentration': 148.05989110707804, 'NO2_Concentration': 43.428571428571431, 'CO_Concentration': 0.7645896656534944, 'O3_Concentration': 78.843465045592708, 'SO2_Concentration': 9.1914893617021285}, 'wanliu_aq': {'PM25_Concentration': 65.179173047473199, 'PM10_Concentration': 129.49635036496349, 'NO2_Concentration': 48.357361963190186, 'CO_Concentration': 0.75184049079754556, 'O3_Concentration': 76.953271028037378, 'SO2_Concentration': 7.6482334869431643}, 'wanshouxigong_aq': {'PM25_Concentration': 65.871755725190837, 'PM10_Concentration': 140.26760563380282, 'NO2_Concentration': 41.027480916030534, 'CO_Concentration': 0.81859756097561032, 'O3_Concentration': 72.712098009188367, 'SO2_Concentration': 6.5175038051750382}, 'xizhimenbei_aq': {'PM25_Concentration': 75.422955974842765, 'PM10_Concentration': 128.19721115537848, 'NO2_Concentration': 64.102964118564742, 'CO_Concentration': 0.78252730109204383, 'O3_Concentration': 62.571884984025559, 'SO2_Concentration': 7.9032761310452422}, 'yanqin_aq': {'PM25_Concentration': 57.963317384370015, 'PM10_Concentration': 138.93019197207678, 'NO2_Concentration': 31.520547945205479, 'CO_Concentration': 0.58386605783865952, 'O3_Concentration': 77.675799086757991, 'SO2_Concentration': 5.3673780487804876}, 'yizhuang_aq': {'PM25_Concentration': 59.583717357910906, 'PM10_Concentration': 127.32801418439716, 'NO2_Concentration': 50.558421851289836, 'CO_Concentration': 0.81914893617021123, 'O3_Concentration': 76.273141122913501, 'SO2_Concentration': 7.0015197568389054}, 'yongdingmennei_aq': {'PM25_Concentration': 68.60956790123457, 'PM10_Concentration': 126.16318785578747, 'NO2_Concentration': 74.367127496159753, 'CO_Concentration': 0.89436834094368289, 'O3_Concentration': 77.424572317262829, 'SO2_Concentration': 12.091603053435115}, 'yongledian_aq': {'PM25_Concentration': 69.902587519025872, 'PM10_Concentration': 146.66483516483515, 'NO2_Concentration': 49.047040971168435, 'CO_Concentration': 0.95584218512898345, 'O3_Concentration': 85.958139534883728, 'SO2_Concentration': 8.3854324734446131}, 'yufa_aq': {'PM25_Concentration': 73.31504702194357, 'PM10_Concentration': 145.77820267686425, 'NO2_Concentration': 34.283018867924525, 'CO_Concentration': 0.70612244897959031, 'O3_Concentration': 83.441640378548897, 'SO2_Concentration': 7.7120500782472616}, 'yungang_aq': {'PM25_Concentration': 67.764415156507411, 'PM10_Concentration': 127.10650887573965, 'NO2_Concentration': 34.437293729372939, 'CO_Concentration': 0.64468085106382989, 'O3_Concentration': 90.896890343698857, 'SO2_Concentration': 6.6382978723404253}, 'zhiwuyuan_aq': {'PM25_Concentration': 1, 'PM10_Concentration': 1, 'NO2_Concentration': 1, 'CO_Concentration': 1, 'O3_Concentration': 1, 'SO2_Concentration': 1}}\n"
     ]
    }
   ],
   "source": [
    "bejMeans = {index:{i:1 if np.isnan(v) else v for i, v in row.items()} for index, row in bejDf.groupby(['station_id']).mean().iterrows()}\n",
    "print(bejMeans)"
   ]
  }
 ],
 "metadata": {
  "kernelspec": {
   "display_name": "Python 3",
   "language": "python",
   "name": "python3"
  },
  "language_info": {
   "codemirror_mode": {
    "name": "ipython",
    "version": 3
   },
   "file_extension": ".py",
   "mimetype": "text/x-python",
   "name": "python",
   "nbconvert_exporter": "python",
   "pygments_lexer": "ipython3",
   "version": "3.6.3"
  }
 },
 "nbformat": 4,
 "nbformat_minor": 2
}
