{
 "cells": [
  {
   "cell_type": "code",
   "execution_count": 199,
   "metadata": {
    "scrolled": false
   },
   "outputs": [
    {
     "name": "stdout",
     "output_type": "stream",
     "text": [
      "https://biendata.com/competition/airquality/bj/2017-01-01-0/2018-05-31-23/2k0d1d8\n",
      "data/Beijing/air/bj_airquality_2017-01-01-0_2018-05-31-23.csv\n",
      "\n",
      "https://biendata.com/competition/meteorology/bj/2017-01-01-0/2018-05-31-23/2k0d1d8\n",
      "data/Beijing/met/bj_meteorology_2017-01-01-0_2018-05-31-23.csv\n",
      "\n",
      "https://biendata.com/competition/meteorology/bj_grid/2017-01-01-0/2018-05-31-23/2k0d1d8\n",
      "data/Beijing/grid/bj_grid_2017-01-01-0_2018-05-31-23.csv\n",
      "\n",
      "https://biendata.com/competition/airquality/ld/2017-01-01-0/2018-05-31-23/2k0d1d8\n",
      "data/London/air/ld_airquality_2017-01-01-0_2018-05-31-23.csv\n",
      "\n",
      "https://biendata.com/competition/meteorology/ld/2017-01-01-0/2018-05-31-23/2k0d1d8\n",
      "data/London/met/ld_meteorology_2017-01-01-0_2018-05-31-23.csv\n",
      "\n",
      "https://biendata.com/competition/meteorology/ld_grid/2017-01-01-0/2018-05-31-23/2k0d1d8\n",
      "data/London/grid/ld_grid_2017-01-01-0_2018-05-31-23.csv\n",
      "\n"
     ]
    }
   ],
   "source": [
    "import load_data\n",
    "import os\n",
    "import pandas as pd\n",
    "import numpy as np\n",
    "import sklearn.linear_model\n",
    "import sklearn.ensemble\n",
    "import matplotlib.pyplot as plt\n",
    "import seaborn as sns\n",
    "import plot\n",
    "import time\n",
    "import datetime\n",
    "import numpy as np\n",
    "\n",
    "allDf = load_data.getPandasDataframes()\n",
    "\n",
    "bejAirDf = allDf[('Beijing', 'air')]\n",
    "bejMetDf = allDf[('Beijing', 'met')]\n",
    "bejGrd = allDf[('Beijing', 'grid')]\n",
    "\n",
    "bejAirDf['newTime'] = pd.to_datetime(bejAirDf['time'], errors='coerce', format='%Y-%m-%d %H:%M:%S')\n",
    "bejMetDf['time'] = pd.to_datetime(bejMetDf['time'], errors='coerce', format='%Y-%m-%d %H:%M:%S')\n",
    "bejGrd['time'] = pd.to_datetime(bejGrd['time'], errors='coerce', format='%Y-%m-%d %H:%M:%S')\n",
    "\n",
    "bejMetDf = bejMetDf.rename(columns={'station_id':'met_station'})\n",
    "bejGrd = bejGrd.rename(columns={'station_id':'met_station'})\n",
    "\n",
    "bejDf = pd.DataFrame()\n",
    "for key in ['station_id', 'PM25_Concentration', 'PM10_Concentration', 'NO2_Concentration', 'CO_Concentration', 'O3_Concentration', 'SO2_Concentration']:\n",
    "    bejDf[key] = bejAirDf[key]\n",
    "bejDf['time'] = bejAirDf['newTime']\n",
    "\n",
    "bejDf['hour'] = bejAirDf['newTime'].dt.hour\n",
    "#bejDf['minute'] = bejAirDf['newTime'].dt.minute\n",
    "#bejDf['second'] = bejAirDf['newTime'].dt.second\n",
    "bejDf['day'] = bejAirDf['newTime'].dt.day\n",
    "bejDf['month'] = bejAirDf['newTime'].dt.month\n",
    "#bejDf['year'] = bejAirDf['newTime'].dt.year\n",
    "bejDf['dayofweek'] = bejAirDf['newTime'].dt.dayofweek\n",
    "bejDf['dayofweek'] = pd.Categorical(bejDf['dayofweek'], ordered=False)\n",
    "\n",
    "valueDict = {(row['station_id'],row['time'].to_pydatetime()):row['PM10_Concentration'] for index, row in bejDf.iterrows()}\n",
    "bejDf['PM10_3'] = bejDf['PM10_Concentration']\n",
    "bejDf['PM10_3B'] = bejDf['PM10_Concentration']\n",
    "bejDf['PM10_3C'] = bejDf['PM10_Concentration']\n",
    "for index, row in bejDf.iterrows():\n",
    "    rtime = row['time'].to_pydatetime()\n",
    "    rtime = rtime - datetime.timedelta(hours=1)\n",
    "    rtime2 = rtime - datetime.timedelta(hours=1)\n",
    "    rtime3 = rtime2 - datetime.timedelta(hours=1)\n",
    "    bejDf.at[index, 'PM10_3'] = valueDict.get((row['station_id'], rtime), np.NaN)\n",
    "    bejDf.at[index, 'PM10_3B'] = valueDict.get((row['station_id'], rtime2), np.NaN)\n",
    "    bejDf.at[index, 'PM10_3C'] = valueDict.get((row['station_id'], rtime3), np.NaN)\n",
    "\n",
    "\n",
    "#stationDf = bejDf[bejDf['station_id']=='tiantan_aq']\n",
    "#ToDo: limit to one station for now\n",
    "#bejDf = stationDf\n",
    "\n",
    "if False:\n",
    "    plt.scatter(x=bejDf.PM25_Concentration, y=bejDf.PM10_Concentration)\n",
    "    plt.xlabel(\"time\", fontsize=14)\n",
    "    plt.ylabel(\"PM10_Concentration\", fontsize=14)\n",
    "    f = plt.gcf()\n",
    "    f.set_figheight(10)\n",
    "    f.set_figwidth(15)\n",
    "    plt.show()\n",
    "    \n",
    "# bejDf = bejDf.fillna(bejDf.median())\n",
    "# bejDf = pd.get_dummies(bejDf, 'dum')\n"
   ]
  },
  {
   "cell_type": "code",
   "execution_count": 200,
   "metadata": {},
   "outputs": [],
   "source": [
    "# bejDf['businessHours'] = 0\n",
    "# bejDf[(bejDf['hour'] >= 8) & (bejDf['hour']<=18)]['businessHours'] = 1\n",
    "# bejDf.loc[workIndex,:]['businessHours'] = 1\n",
    "# bejDf.head(n=100)"
   ]
  },
  {
   "cell_type": "code",
   "execution_count": 201,
   "metadata": {},
   "outputs": [],
   "source": [
    "bj1718meo = pd.read_csv('viz/stash/beijing_17_18_meo.csv')\n",
    "bj1718meo = bj1718meo.rename(columns={'station_id':'met_station'})\n",
    "bj_meo_stations = pd.read_csv('viz/stash/Beijing_meo_stations.csv')\n",
    "bj_ring = pd.read_csv('viz/stash/Beijing_Neighbors.csv')\n",
    "bj_nn = pd.read_excel('viz/stash/Beijing_Neighbors.xlsx')\n",
    "bj_nn = bj_nn.rename(columns={\"aq_station\": \"station_id\"})"
   ]
  },
  {
   "cell_type": "code",
   "execution_count": 202,
   "metadata": {},
   "outputs": [],
   "source": [
    "bj_nn[bj_nn['met_station']=='fangshan_met'] =  'fangshan_meo'"
   ]
  },
  {
   "cell_type": "code",
   "execution_count": 203,
   "metadata": {
    "scrolled": false
   },
   "outputs": [
    {
     "ename": "ValueError",
     "evalue": "Buffer dtype mismatch, expected 'Python object' but got 'long'",
     "output_type": "error",
     "traceback": [
      "\u001b[0;31m---------------------------------------------------------------------------\u001b[0m",
      "\u001b[0;31mValueError\u001b[0m                                Traceback (most recent call last)",
      "\u001b[0;31mValueError\u001b[0m: Buffer dtype mismatch, expected 'Python object' but got 'long'"
     ]
    },
    {
     "name": "stderr",
     "output_type": "stream",
     "text": [
      "Exception ignored in: 'pandas._libs.lib.is_bool_array'\n",
      "ValueError: Buffer dtype mismatch, expected 'Python object' but got 'long'\n"
     ]
    },
    {
     "ename": "ValueError",
     "evalue": "Buffer dtype mismatch, expected 'Python object' but got 'long'",
     "output_type": "error",
     "traceback": [
      "\u001b[0;31m---------------------------------------------------------------------------\u001b[0m",
      "\u001b[0;31mValueError\u001b[0m                                Traceback (most recent call last)",
      "\u001b[0;31mValueError\u001b[0m: Buffer dtype mismatch, expected 'Python object' but got 'long'"
     ]
    },
    {
     "name": "stderr",
     "output_type": "stream",
     "text": [
      "Exception ignored in: 'pandas._libs.lib.is_bool_array'\n",
      "ValueError: Buffer dtype mismatch, expected 'Python object' but got 'long'\n"
     ]
    },
    {
     "data": {
      "text/html": [
       "<div>\n",
       "<style scoped>\n",
       "    .dataframe tbody tr th:only-of-type {\n",
       "        vertical-align: middle;\n",
       "    }\n",
       "\n",
       "    .dataframe tbody tr th {\n",
       "        vertical-align: top;\n",
       "    }\n",
       "\n",
       "    .dataframe thead th {\n",
       "        text-align: right;\n",
       "    }\n",
       "</style>\n",
       "<table border=\"1\" class=\"dataframe\">\n",
       "  <thead>\n",
       "    <tr style=\"text-align: right;\">\n",
       "      <th></th>\n",
       "      <th>station_id</th>\n",
       "      <th>PM25_Concentration</th>\n",
       "      <th>PM10_Concentration</th>\n",
       "      <th>NO2_Concentration</th>\n",
       "      <th>CO_Concentration</th>\n",
       "      <th>O3_Concentration</th>\n",
       "      <th>SO2_Concentration</th>\n",
       "      <th>time</th>\n",
       "      <th>hour</th>\n",
       "      <th>day</th>\n",
       "      <th>...</th>\n",
       "      <th>PM10_3</th>\n",
       "      <th>PM10_3B</th>\n",
       "      <th>PM10_3C</th>\n",
       "      <th>met_station</th>\n",
       "      <th>humidity</th>\n",
       "      <th>pressure</th>\n",
       "      <th>temperature</th>\n",
       "      <th>weather</th>\n",
       "      <th>wind_direction</th>\n",
       "      <th>wind_speed</th>\n",
       "    </tr>\n",
       "  </thead>\n",
       "  <tbody>\n",
       "    <tr>\n",
       "      <th>0</th>\n",
       "      <td>dongsi_aq</td>\n",
       "      <td>105.0</td>\n",
       "      <td>172.0</td>\n",
       "      <td>53.0</td>\n",
       "      <td>0.8</td>\n",
       "      <td>127.0</td>\n",
       "      <td>14.0</td>\n",
       "      <td>2018-03-31 07:00:00</td>\n",
       "      <td>7</td>\n",
       "      <td>31</td>\n",
       "      <td>...</td>\n",
       "      <td>NaN</td>\n",
       "      <td>NaN</td>\n",
       "      <td>NaN</td>\n",
       "      <td>beijing_grid_303</td>\n",
       "      <td>18.0</td>\n",
       "      <td>1006.3160</td>\n",
       "      <td>22.0</td>\n",
       "      <td>PARTLY_CLOUDY_DAY</td>\n",
       "      <td>160.36</td>\n",
       "      <td>10.08</td>\n",
       "    </tr>\n",
       "    <tr>\n",
       "      <th>1</th>\n",
       "      <td>tiantan_aq</td>\n",
       "      <td>95.0</td>\n",
       "      <td>123.0</td>\n",
       "      <td>54.0</td>\n",
       "      <td>0.9</td>\n",
       "      <td>121.0</td>\n",
       "      <td>15.0</td>\n",
       "      <td>2018-03-31 07:00:00</td>\n",
       "      <td>7</td>\n",
       "      <td>31</td>\n",
       "      <td>...</td>\n",
       "      <td>NaN</td>\n",
       "      <td>NaN</td>\n",
       "      <td>NaN</td>\n",
       "      <td>beijing_grid_303</td>\n",
       "      <td>18.0</td>\n",
       "      <td>1006.3160</td>\n",
       "      <td>22.0</td>\n",
       "      <td>PARTLY_CLOUDY_DAY</td>\n",
       "      <td>160.36</td>\n",
       "      <td>10.08</td>\n",
       "    </tr>\n",
       "    <tr>\n",
       "      <th>2</th>\n",
       "      <td>guanyuan_aq</td>\n",
       "      <td>95.0</td>\n",
       "      <td>139.0</td>\n",
       "      <td>66.0</td>\n",
       "      <td>0.8</td>\n",
       "      <td>123.0</td>\n",
       "      <td>13.0</td>\n",
       "      <td>2018-03-31 07:00:00</td>\n",
       "      <td>7</td>\n",
       "      <td>31</td>\n",
       "      <td>...</td>\n",
       "      <td>NaN</td>\n",
       "      <td>NaN</td>\n",
       "      <td>NaN</td>\n",
       "      <td>beijing_grid_282</td>\n",
       "      <td>18.0</td>\n",
       "      <td>1003.7027</td>\n",
       "      <td>22.0</td>\n",
       "      <td>PARTLY_CLOUDY_DAY</td>\n",
       "      <td>154.71</td>\n",
       "      <td>11.04</td>\n",
       "    </tr>\n",
       "    <tr>\n",
       "      <th>3</th>\n",
       "      <td>wanshouxigong_aq</td>\n",
       "      <td>99.0</td>\n",
       "      <td>172.0</td>\n",
       "      <td>58.0</td>\n",
       "      <td>1.0</td>\n",
       "      <td>119.0</td>\n",
       "      <td>14.0</td>\n",
       "      <td>2018-03-31 07:00:00</td>\n",
       "      <td>7</td>\n",
       "      <td>31</td>\n",
       "      <td>...</td>\n",
       "      <td>NaN</td>\n",
       "      <td>NaN</td>\n",
       "      <td>NaN</td>\n",
       "      <td>beijing_grid_303</td>\n",
       "      <td>18.0</td>\n",
       "      <td>1006.3160</td>\n",
       "      <td>22.0</td>\n",
       "      <td>PARTLY_CLOUDY_DAY</td>\n",
       "      <td>160.36</td>\n",
       "      <td>10.08</td>\n",
       "    </tr>\n",
       "    <tr>\n",
       "      <th>4</th>\n",
       "      <td>aotizhongxin_aq</td>\n",
       "      <td>117.0</td>\n",
       "      <td>166.0</td>\n",
       "      <td>67.0</td>\n",
       "      <td>0.8</td>\n",
       "      <td>111.0</td>\n",
       "      <td>14.0</td>\n",
       "      <td>2018-03-31 07:00:00</td>\n",
       "      <td>7</td>\n",
       "      <td>31</td>\n",
       "      <td>...</td>\n",
       "      <td>NaN</td>\n",
       "      <td>NaN</td>\n",
       "      <td>NaN</td>\n",
       "      <td>beijing_grid_304</td>\n",
       "      <td>18.0</td>\n",
       "      <td>1004.8189</td>\n",
       "      <td>22.0</td>\n",
       "      <td>PARTLY_CLOUDY_DAY</td>\n",
       "      <td>154.72</td>\n",
       "      <td>10.70</td>\n",
       "    </tr>\n",
       "  </tbody>\n",
       "</table>\n",
       "<p>5 rows × 22 columns</p>\n",
       "</div>"
      ],
      "text/plain": [
       "         station_id  PM25_Concentration  PM10_Concentration  \\\n",
       "0         dongsi_aq               105.0               172.0   \n",
       "1        tiantan_aq                95.0               123.0   \n",
       "2       guanyuan_aq                95.0               139.0   \n",
       "3  wanshouxigong_aq                99.0               172.0   \n",
       "4   aotizhongxin_aq               117.0               166.0   \n",
       "\n",
       "   NO2_Concentration  CO_Concentration  O3_Concentration  SO2_Concentration  \\\n",
       "0               53.0               0.8             127.0               14.0   \n",
       "1               54.0               0.9             121.0               15.0   \n",
       "2               66.0               0.8             123.0               13.0   \n",
       "3               58.0               1.0             119.0               14.0   \n",
       "4               67.0               0.8             111.0               14.0   \n",
       "\n",
       "                 time  hour  day    ...      PM10_3 PM10_3B  PM10_3C  \\\n",
       "0 2018-03-31 07:00:00     7   31    ...         NaN     NaN      NaN   \n",
       "1 2018-03-31 07:00:00     7   31    ...         NaN     NaN      NaN   \n",
       "2 2018-03-31 07:00:00     7   31    ...         NaN     NaN      NaN   \n",
       "3 2018-03-31 07:00:00     7   31    ...         NaN     NaN      NaN   \n",
       "4 2018-03-31 07:00:00     7   31    ...         NaN     NaN      NaN   \n",
       "\n",
       "        met_station  humidity   pressure  temperature            weather  \\\n",
       "0  beijing_grid_303      18.0  1006.3160         22.0  PARTLY_CLOUDY_DAY   \n",
       "1  beijing_grid_303      18.0  1006.3160         22.0  PARTLY_CLOUDY_DAY   \n",
       "2  beijing_grid_282      18.0  1003.7027         22.0  PARTLY_CLOUDY_DAY   \n",
       "3  beijing_grid_303      18.0  1006.3160         22.0  PARTLY_CLOUDY_DAY   \n",
       "4  beijing_grid_304      18.0  1004.8189         22.0  PARTLY_CLOUDY_DAY   \n",
       "\n",
       "   wind_direction wind_speed  \n",
       "0          160.36      10.08  \n",
       "1          160.36      10.08  \n",
       "2          154.71      11.04  \n",
       "3          160.36      10.08  \n",
       "4          154.72      10.70  \n",
       "\n",
       "[5 rows x 22 columns]"
      ]
     },
     "execution_count": 203,
     "metadata": {},
     "output_type": "execute_result"
    }
   ],
   "source": [
    "temp = bejDf.merge(bj_nn, on='station_id', how='left')\n",
    "bejWeather = pd.concat([bejMetDf, bejGrd])\n",
    "temp = pd.merge(temp, bejWeather,  how='left', on=['met_station','time'])\n",
    "temp = temp.drop(columns='id')\n",
    "temp.head()"
   ]
  },
  {
   "cell_type": "code",
   "execution_count": 217,
   "metadata": {},
   "outputs": [
    {
     "data": {
      "text/plain": [
       "<matplotlib.axes._subplots.AxesSubplot at 0x1a2824c9b0>"
      ]
     },
     "execution_count": 217,
     "metadata": {},
     "output_type": "execute_result"
    },
    {
     "data": {
      "image/png": "[encoded data removed]",
      "text/plain": [
       "<Figure size 792x648 with 2 Axes>"
      ]
     },
     "metadata": {},
     "output_type": "display_data"
    }
   ],
   "source": [
    "\n",
    "tempNum = temp.select_dtypes('number')\n",
    "tempNum = tempNum.dropna()\n",
    "tempCor = tempNum.corr()\n",
    "mask = np.zeros_like(tempCor, dtype=np.bool)\n",
    "mask[np.triu_indices_from(mask)] = True\n",
    "\n",
    "f, ax = plt.subplots(figsize=(11, 9))\n",
    "cmap = sns.diverging_palette(220, 10, as_cmap=True)\n",
    "\n",
    "sns.heatmap(tempCor, mask=mask, cmap=cmap, vmax=.3, center=0,\n",
    "            square=True, linewidths=.5, cbar_kws={\"shrink\": .5})"
   ]
  },
  {
   "cell_type": "code",
   "execution_count": 542,
   "metadata": {},
   "outputs": [],
   "source": [
    "# ct = datetime.datetime.utcnow() - datetime.timedelta(days=2)\n",
    "# splitDate = pd.datetime(ct.year,ct.month,ct.day,  ct.hour)\n",
    "# trainDf = bejDf[bejDf['time'] < splitDate]\n",
    "# testDf = bejDf[bejDf['time'] >= splitDate]"
   ]
  },
  {
   "cell_type": "code",
   "execution_count": 543,
   "metadata": {
    "scrolled": true
   },
   "outputs": [
    {
     "data": {
      "text/plain": [
       "[Timestamp('2018-04-28 05:00:00'),\n",
       " Timestamp('2018-04-29 00:00:00'),\n",
       " Timestamp('2018-04-29 16:00:00'),\n",
       " Timestamp('2018-04-29 17:00:00'),\n",
       " Timestamp('2018-04-29 23:00:00')]"
      ]
     },
     "execution_count": 543,
     "metadata": {},
     "output_type": "execute_result"
    }
   ],
   "source": [
    "# cur = datetime.datetime.utcnow()\n",
    "# current_time = pd.datetime(cur.year,cur.month,cur.day,cur.hour)\n",
    "# d = list(testDf.time)\n",
    "# date_list = [current_time - datetime.timedelta(hours=x) for x in range(0, 48)]\n",
    "# date_list = [pd.to_datetime(i, format='%Y-%m-%d %H:%M:%S') for i in date_list]\n",
    "# missingDatesFromTestDf = np.setdiff1d(sorted(date_list),list(set(sorted(d))))\n",
    "# list(missingDatesFromTestDf)"
   ]
  },
  {
   "cell_type": "code",
   "execution_count": null,
   "metadata": {},
   "outputs": [],
   "source": []
  }
 ],
 "metadata": {
  "kernelspec": {
   "display_name": "Python 3",
   "language": "python",
   "name": "python3"
  },
  "language_info": {
   "codemirror_mode": {
    "name": "ipython",
    "version": 3
   },
   "file_extension": ".py",
   "mimetype": "text/x-python",
   "name": "python",
   "nbconvert_exporter": "python",
   "pygments_lexer": "ipython3",
   "version": "3.6.4"
  }
 },
 "nbformat": 4,
 "nbformat_minor": 2
}
