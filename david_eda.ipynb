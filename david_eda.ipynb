{
 "cells": [
  {
   "cell_type": "code",
   "execution_count": 540,
   "metadata": {
    "scrolled": false
   },
   "outputs": [],
   "source": [
    "import load_data\n",
    "import pandas as pd\n",
    "import sklearn.linear_model\n",
    "import sklearn.ensemble\n",
    "import matplotlib.pyplot as plt\n",
    "import plot\n",
    "import time\n",
    "import datetime\n",
    "import numpy as np\n",
    "\n",
    "# allDf = load_data.getPandasDataframes()\n",
    "\n",
    "bejAirDf = allDf[('Beijing', 'air')]\n",
    "bejMetDf = allDf[('Beijing', 'met')]\n",
    "bejGrd = allDf[('Beijing', 'grid')]\n",
    "\n",
    "bejAirDf['newTime'] = pd.to_datetime(bejAirDf['time'], errors='coerce', format='%Y-%m-%d %H:%M:%S')\n",
    "\n",
    "bejDf = pd.DataFrame()\n",
    "for key in ['station_id', 'PM25_Concentration', 'PM10_Concentration', 'NO2_Concentration', 'CO_Concentration', 'O3_Concentration', 'SO2_Concentration']:\n",
    "    bejDf[key] = bejAirDf[key]\n",
    "bejDf['time'] = bejAirDf['newTime']\n",
    "\n",
    "bejDf['hour'] = bejAirDf['newTime'].dt.hour\n",
    "#bejDf['minute'] = bejAirDf['newTime'].dt.minute\n",
    "#bejDf['second'] = bejAirDf['newTime'].dt.second\n",
    "bejDf['day'] = bejAirDf['newTime'].dt.day\n",
    "bejDf['month'] = bejAirDf['newTime'].dt.month\n",
    "#bejDf['year'] = bejAirDf['newTime'].dt.year\n",
    "bejDf['dayofweek'] = bejAirDf['newTime'].dt.dayofweek\n",
    "bejDf['dayofweek'] = pd.Categorical(bejDf['dayofweek'], ordered=False)\n",
    "\n",
    "valueDict = {(row['station_id'],row['time'].to_pydatetime()):row['PM10_Concentration'] for index, row in bejDf.iterrows()}\n",
    "bejDf['PM10_3'] = bejDf['PM10_Concentration']\n",
    "bejDf['PM10_3B'] = bejDf['PM10_Concentration']\n",
    "bejDf['PM10_3C'] = bejDf['PM10_Concentration']\n",
    "for index, row in bejDf.iterrows():\n",
    "    rtime = row['time'].to_pydatetime()\n",
    "    rtime = rtime - datetime.timedelta(hours=1)\n",
    "    rtime2 = rtime - datetime.timedelta(hours=1)\n",
    "    rtime3 = rtime2 - datetime.timedelta(hours=1)\n",
    "    bejDf.at[index, 'PM10_3'] = valueDict.get((row['station_id'], rtime), np.NaN)\n",
    "    bejDf.at[index, 'PM10_3B'] = valueDict.get((row['station_id'], rtime2), np.NaN)\n",
    "    bejDf.at[index, 'PM10_3C'] = valueDict.get((row['station_id'], rtime3), np.NaN)\n",
    "\n",
    "\n",
    "#stationDf = bejDf[bejDf['station_id']=='tiantan_aq']\n",
    "#ToDo: limit to one station for now\n",
    "#bejDf = stationDf\n",
    "\n",
    "if False:\n",
    "    plt.scatter(x=bejDf.PM25_Concentration, y=bejDf.PM10_Concentration)\n",
    "    plt.xlabel(\"time\", fontsize=14)\n",
    "    plt.ylabel(\"PM10_Concentration\", fontsize=14)\n",
    "    f = plt.gcf()\n",
    "    f.set_figheight(10)\n",
    "    f.set_figwidth(15)\n",
    "    plt.show()\n",
    "    \n",
    "bejDf = bejDf.fillna(bejDf.median())\n",
    "# bejDf = pd.get_dummies(bejDf, 'dum')\n"
   ]
  },
  {
   "cell_type": "code",
   "execution_count": 541,
   "metadata": {},
   "outputs": [
    {
     "name": "stderr",
     "output_type": "stream",
     "text": [
      "/anaconda3/lib/python3.6/site-packages/ipykernel_launcher.py:2: SettingWithCopyWarning: \n",
      "A value is trying to be set on a copy of a slice from a DataFrame.\n",
      "Try using .loc[row_indexer,col_indexer] = value instead\n",
      "\n",
      "See the caveats in the documentation: http://pandas.pydata.org/pandas-docs/stable/indexing.html#indexing-view-versus-copy\n",
      "  \n"
     ]
    }
   ],
   "source": [
    "# bejDf['businessHours'] = 0\n",
    "# bejDf[(bejDf['hour'] >= 8) & (bejDf['hour']<=18)]['businessHours'] = 1\n",
    "# bejDf.loc[workIndex,:]['businessHours'] = 1\n",
    "# bejDf.head(n=100)"
   ]
  },
  {
   "cell_type": "code",
   "execution_count": 542,
   "metadata": {},
   "outputs": [],
   "source": [
    "ct = datetime.datetime.utcnow() - datetime.timedelta(days=2)\n",
    "splitDate = pd.datetime(ct.year,ct.month,ct.day,  ct.hour)\n",
    "trainDf = bejDf[bejDf['time'] < splitDate]\n",
    "testDf = bejDf[bejDf['time'] >= splitDate]"
   ]
  },
  {
   "cell_type": "code",
   "execution_count": 543,
   "metadata": {
    "scrolled": true
   },
   "outputs": [
    {
     "data": {
      "text/plain": [
       "[Timestamp('2018-04-28 05:00:00'),\n",
       " Timestamp('2018-04-29 00:00:00'),\n",
       " Timestamp('2018-04-29 16:00:00'),\n",
       " Timestamp('2018-04-29 17:00:00'),\n",
       " Timestamp('2018-04-29 23:00:00')]"
      ]
     },
     "execution_count": 543,
     "metadata": {},
     "output_type": "execute_result"
    }
   ],
   "source": [
    "cur = datetime.datetime.utcnow()\n",
    "current_time = pd.datetime(cur.year,cur.month,cur.day,cur.hour)\n",
    "d = list(testDf.time)\n",
    "date_list = [current_time - datetime.timedelta(hours=x) for x in range(0, 48)]\n",
    "date_list = [pd.to_datetime(i, format='%Y-%m-%d %H:%M:%S') for i in date_list]\n",
    "missingDatesFromTestDf = np.setdiff1d(sorted(date_list),list(set(sorted(d))))\n",
    "list(missingDatesFromTestDf)"
   ]
  },
  {
   "cell_type": "code",
   "execution_count": 539,
   "metadata": {},
   "outputs": [
    {
     "name": "stdout",
     "output_type": "stream",
     "text": [
      "0.3009760225257948\n"
     ]
    }
   ],
   "source": [
    "targets = ['PM25_Concentration', 'PM10_Concentration', 'O3_Concentration']\n",
    "features = [col for col in list(testDf) if ((col not in targets) and (col != 'time'))]\n",
    "\n",
    "# print(trainDf[features].head(20))\n",
    "\n",
    "lm = sklearn.linear_model.LinearRegression(n_jobs=-1)\n",
    "#lm = sklearn.ensemble.RandomForestRegressor(n_jobs=-1, random_state=42)\n",
    "lm.fit(trainDf[features], trainDf[targets])\n",
    "print(lm.score(testDf[features], testDf[targets]))\n",
    "\n",
    "#lm.fit(trainDf[features], trainDf['PM10_Concentration'])\n",
    "#print(lm.score(testDf[features], testDf['PM10_Concentration']))\n",
    "\n",
    "predictedValues = lm.predict(testDf[features])\n",
    "predictedValues = pd.DataFrame(predictedValues, columns = targets)\n",
    "actualValues = testDf[targets]\n",
    "\n",
    "# plot.CreateMultiplePredictedAndActualValuesPlots([predictedValues['PM10_Concentration']],\n",
    "#                                                  [actualValues['PM10_Concentration']], \n",
    "#                                                  'LinearRegression')"
   ]
  },
  {
   "cell_type": "code",
   "execution_count": null,
   "metadata": {},
   "outputs": [],
   "source": []
  }
 ],
 "metadata": {
  "kernelspec": {
   "display_name": "Python 3",
   "language": "python",
   "name": "python3"
  },
  "language_info": {
   "codemirror_mode": {
    "name": "ipython",
    "version": 3
   },
   "file_extension": ".py",
   "mimetype": "text/x-python",
   "name": "python",
   "nbconvert_exporter": "python",
   "pygments_lexer": "ipython3",
   "version": "3.6.4"
  }
 },
 "nbformat": 4,
 "nbformat_minor": 2
}
