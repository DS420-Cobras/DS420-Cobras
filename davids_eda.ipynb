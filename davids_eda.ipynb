{
 "cells": [
  {
   "cell_type": "code",
   "execution_count": 3,
   "metadata": {},
   "outputs": [],
   "source": [
    "import os\n",
    "import load_data\n",
    "from datetime import datetime\n",
    "import pandas as pd\n",
    "import numpy as np\n",
    "import matplotlib.pyplot as plt\n",
    "import seaborn as sns"
   ]
  },
  {
   "cell_type": "code",
   "execution_count": 4,
   "metadata": {},
   "outputs": [
    {
     "name": "stdout",
     "output_type": "stream",
     "text": [
      "https://biendata.com/competition/airquality/bj/2017-01-01-0/2018-05-31-23/2k0d1d8\n",
      "data/Beijing/air/bj_airquality_2017-01-01-0_2018-05-31-23.csv\n",
      "\n",
      "https://biendata.com/competition/meteorology/bj/2017-01-01-0/2018-05-31-23/2k0d1d8\n",
      "data/Beijing/met/bj_meteorology_2017-01-01-0_2018-05-31-23.csv\n",
      "\n",
      "https://biendata.com/competition/meteorology/bj_grid/2017-01-01-0/2018-05-31-23/2k0d1d8\n",
      "data/Beijing/grid/bj_grid_2017-01-01-0_2018-05-31-23.csv\n",
      "\n",
      "https://biendata.com/competition/airquality/ld/2017-01-01-0/2018-05-31-23/2k0d1d8\n",
      "data/London/air/ld_airquality_2017-01-01-0_2018-05-31-23.csv\n",
      "\n",
      "https://biendata.com/competition/meteorology/ld/2017-01-01-0/2018-05-31-23/2k0d1d8\n",
      "data/London/met/ld_meteorology_2017-01-01-0_2018-05-31-23.csv\n",
      "\n",
      "https://biendata.com/competition/meteorology/ld_grid/2017-01-01-0/2018-05-31-23/2k0d1d8\n",
      "data/London/grid/ld_grid_2017-01-01-0_2018-05-31-23.csv\n",
      "\n"
     ]
    }
   ],
   "source": [
    "allDf = load_data.getPandasDataframes()\n",
    "df_dict={}\n",
    "for key, value in allDf.items():\n",
    "    df_dict[str(key[0]+\"_\"+key[1])] = value"
   ]
  },
  {
   "cell_type": "code",
   "execution_count": null,
   "metadata": {},
   "outputs": [],
   "source": [
    "# bj_air = allDf[('Beijing', 'air')]\n",
    "# bj_met = allDf[('Beijing', 'met')]\n",
    "# bj_grid = allDf[('Beijing', 'grid')]\n",
    "# ld_air = allDf[('London', 'air')]\n",
    "# ld_grid = allDf[('London', 'grid')]"
   ]
  },
  {
   "cell_type": "code",
   "execution_count": 5,
   "metadata": {},
   "outputs": [],
   "source": [
    "for i in df_dict:\n",
    "    df_dict[i]['hour'] = [datetime.strptime(df_dict[i]['time'].iloc[index], '%Y-%m-%d %H:%M:%S').hour for index in df_dict[i].index]\n",
    "    df_dict[i]['date'] = [datetime.strptime(df_dict[i]['time'].iloc[index], '%Y-%m-%d %H:%M:%S').date() for index in df_dict[i].index]\n",
    "    df_dict[i]['weekday'] = [df_dict[i]['date'].iloc[index].weekday() for index in df_dict[i].index]\n",
    "# bj_met['hour'] = [datetime.strptime(bj_met['time'].iloc[i], '%Y-%m-%d %H:%M:%S').hour for i in bj_met.index]\n",
    "# bj_air['hour'] = [datetime.strptime(bj_air['time'].iloc[i], '%Y-%m-%d %H:%M:%S').hour for i in bj_air.index]\n",
    "# bj_grid['hour'] = [datetime.strptime(bj_grid['time'].iloc[i], '%Y-%m-%d %H:%M:%S').hour for i in bj_grid.index]\n",
    "# ld_air['hour'] = [datetime.strptime(ld_air['time'].iloc[i], '%Y-%m-%d %H:%M:%S').hour for i in ld_air.index]\n",
    "# ld_grid['hour'] = [datetime.strptime(ld_grid['time'].iloc[i], '%Y-%m-%d %H:%M:%S').hour for i in ld_grid.index]"
   ]
  },
  {
   "cell_type": "code",
   "execution_count": 14,
   "metadata": {},
   "outputs": [
    {
     "name": "stdout",
     "output_type": "stream",
     "text": [
      "Beijing_air\n",
      "id                      int64\n",
      "station_id             object\n",
      "time                   object\n",
      "PM25_Concentration    float64\n",
      "PM10_Concentration    float64\n",
      "NO2_Concentration     float64\n",
      "CO_Concentration      float64\n",
      "O3_Concentration      float64\n",
      "SO2_Concentration     float64\n",
      "hour                    int64\n",
      "date                   object\n",
      "weekday                 int64\n",
      "dtype: object\n",
      "\n",
      "\n",
      "Beijing_met\n",
      "id                      int64\n",
      "station_id             object\n",
      "time                   object\n",
      "PM25_Concentration    float64\n",
      "PM10_Concentration    float64\n",
      "NO2_Concentration     float64\n",
      "CO_Concentration      float64\n",
      "O3_Concentration      float64\n",
      "SO2_Concentration     float64\n",
      "hour                    int64\n",
      "date                   object\n",
      "weekday                 int64\n",
      "dtype: object\n",
      "\n",
      "\n",
      "Beijing_grid\n",
      "id                      int64\n",
      "station_id             object\n",
      "time                   object\n",
      "PM25_Concentration    float64\n",
      "PM10_Concentration    float64\n",
      "NO2_Concentration     float64\n",
      "CO_Concentration      float64\n",
      "O3_Concentration      float64\n",
      "SO2_Concentration     float64\n",
      "hour                    int64\n",
      "date                   object\n",
      "weekday                 int64\n",
      "dtype: object\n",
      "\n",
      "\n",
      "London_air\n",
      "id                      int64\n",
      "station_id             object\n",
      "time                   object\n",
      "PM25_Concentration    float64\n",
      "PM10_Concentration    float64\n",
      "NO2_Concentration     float64\n",
      "CO_Concentration      float64\n",
      "O3_Concentration      float64\n",
      "SO2_Concentration     float64\n",
      "hour                    int64\n",
      "date                   object\n",
      "weekday                 int64\n",
      "dtype: object\n",
      "\n",
      "\n",
      "London_met\n",
      "id                      int64\n",
      "station_id             object\n",
      "time                   object\n",
      "PM25_Concentration    float64\n",
      "PM10_Concentration    float64\n",
      "NO2_Concentration     float64\n",
      "CO_Concentration      float64\n",
      "O3_Concentration      float64\n",
      "SO2_Concentration     float64\n",
      "hour                    int64\n",
      "date                   object\n",
      "weekday                 int64\n",
      "dtype: object\n",
      "\n",
      "\n",
      "London_grid\n",
      "id                      int64\n",
      "station_id             object\n",
      "time                   object\n",
      "PM25_Concentration    float64\n",
      "PM10_Concentration    float64\n",
      "NO2_Concentration     float64\n",
      "CO_Concentration      float64\n",
      "O3_Concentration      float64\n",
      "SO2_Concentration     float64\n",
      "hour                    int64\n",
      "date                   object\n",
      "weekday                 int64\n",
      "dtype: object\n",
      "\n",
      "\n"
     ]
    }
   ],
   "source": [
    "for key, value in df_dict.items():\n",
    "    print(key)\n",
    "    print(df_dict['Beijing_air'].dtypes)\n",
    "    print(\"\\n\")"
   ]
  },
  {
   "cell_type": "code",
   "execution_count": null,
   "metadata": {},
   "outputs": [],
   "source": []
  }
 ],
 "metadata": {
  "kernelspec": {
   "display_name": "Python 3",
   "language": "python",
   "name": "python3"
  },
  "language_info": {
   "codemirror_mode": {
    "name": "ipython",
    "version": 3
   },
   "file_extension": ".py",
   "mimetype": "text/x-python",
   "name": "python",
   "nbconvert_exporter": "python",
   "pygments_lexer": "ipython3",
   "version": "3.6.4"
  }
 },
 "nbformat": 4,
 "nbformat_minor": 2
}
